{
  "nbformat": 4,
  "nbformat_minor": 0,
  "metadata": {
    "colab": {
      "provenance": [],
      "authorship_tag": "ABX9TyMOSktcck2XeowikAwxdd5i",
      "include_colab_link": true
    },
    "kernelspec": {
      "name": "python3",
      "display_name": "Python 3"
    },
    "language_info": {
      "name": "python"
    }
  },
  "cells": [
    {
      "cell_type": "markdown",
      "metadata": {
        "id": "view-in-github",
        "colab_type": "text"
      },
      "source": [
        "<a href=\"https://colab.research.google.com/github/ks1708/Files/blob/main/regular_expressions_ipynb.ipynb\" target=\"_parent\"><img src=\"https://colab.research.google.com/assets/colab-badge.svg\" alt=\"Open In Colab\"/></a>"
      ]
    },
    {
      "cell_type": "code",
      "execution_count": 43,
      "metadata": {
        "id": "u0boI2pxxy-H",
        "colab": {
          "base_uri": "https://localhost:8080/"
        },
        "outputId": "45bf5298-79d5-48c7-f8b9-40d71c60dde0"
      },
      "outputs": [
        {
          "output_type": "stream",
          "name": "stdout",
          "text": [
            "hello:world:::how:are:you?:\n"
          ]
        }
      ],
      "source": [
        "import re\n",
        "\n",
        "def replace_spaces_dots_commas(input_string):\n",
        "    pattern = r'[\\s.,]'\n",
        "    replacement = ':'\n",
        "    result_string = re.sub(pattern, replacement, input_string)\n",
        "    return result_string\n",
        "example_text= 'hello world , how are you?.'\n",
        "output_string = replace_spaces_dots_commas(example_text)\n",
        "print(output_string)"
      ]
    },
    {
      "cell_type": "code",
      "source": [
        "import pandas as pd\n",
        "import re\n",
        "data = {'SUMMARY': ['hello, world!', 'XXXXX test', '123four, five:; six...']}\n",
        "df = pd.DataFrame(data)\n",
        "pattern = r'[^a-zA-Z\\s]'\n",
        "print(df)"
      ],
      "metadata": {
        "colab": {
          "base_uri": "https://localhost:8080/"
        },
        "id": "_-iBE6TpdW0P",
        "outputId": "82e37331-7c47-4926-c925-5124663746aa"
      },
      "execution_count": 3,
      "outputs": [
        {
          "output_type": "stream",
          "name": "stdout",
          "text": [
            "                  SUMMARY\n",
            "0           hello, world!\n",
            "1              XXXXX test\n",
            "2  123four, five:; six...\n"
          ]
        }
      ]
    },
    {
      "cell_type": "code",
      "source": [
        "import re\n",
        "\n",
        "def find_long_words(input_string):\n",
        "    pattern = re.compile(r'\\b\\w{4,}\\b')\n",
        "    matches = pattern.findall(input_string)\n",
        "    return matches\n",
        "input_string = \"This is a sample sentence used for testing the function in Python programming.\"\n",
        "long_words = find_long_words(input_string)\n",
        "print(long_words)"
      ],
      "metadata": {
        "colab": {
          "base_uri": "https://localhost:8080/"
        },
        "id": "9TE4N_3VeE7H",
        "outputId": "9008c52a-9ef0-46ae-eb97-5149995a8836"
      },
      "execution_count": 9,
      "outputs": [
        {
          "output_type": "stream",
          "name": "stdout",
          "text": [
            "['This', 'sample', 'sentence', 'used', 'testing', 'function', 'Python', 'programming']\n"
          ]
        }
      ]
    },
    {
      "cell_type": "code",
      "source": [
        "import re\n",
        "def find_words_of_length(input_string, lengths):\n",
        "    pattern = re.compile(r'\\b\\w{%d}\\b' % (lengths[0]))\n",
        "    for length in lengths[1:]:\n",
        "        pattern = re.compile(r'\\b\\w{%d}\\b' % length)\n",
        "    matches = pattern.findall(input_string)\n",
        "    return matches\n",
        "input_string = \"This is a sample sentence is used for testing the function which should return all the words of length three, four, and five.\"\n",
        "word_lengths = [3, 4, 5]\n",
        "words = find_words_of_length(input_string, word_lengths)\n",
        "print(words)"
      ],
      "metadata": {
        "colab": {
          "base_uri": "https://localhost:8080/"
        },
        "id": "haPCEuvdfh62",
        "outputId": "4d867b8c-14b5-46f4-b4b7-26371e68272a"
      },
      "execution_count": 21,
      "outputs": [
        {
          "output_type": "stream",
          "name": "stdout",
          "text": [
            "['which', 'words', 'three']\n"
          ]
        }
      ]
    },
    {
      "cell_type": "code",
      "source": [
        "import re\n",
        "\n",
        "def remove_parentheses(sample_text):\n",
        "    pattern = re.compile(r'\\s*\\(.*?\\)\\s*')\n",
        "    return output_list\n",
        "input_string = [\"example (.com)\", \"hr@fliprobo (.com)\", \"github (.com)\", \"Hello (Data Science World)\", \"Data (Scientist)\"]\n",
        "output_list = remove_parentheses(input_string)\n",
        "print(output_list)"
      ],
      "metadata": {
        "colab": {
          "base_uri": "https://localhost:8080/"
        },
        "id": "fi_3gqvch0ln",
        "outputId": "8d7fa537-699f-4064-9125-389c6fca2839"
      },
      "execution_count": 44,
      "outputs": [
        {
          "output_type": "stream",
          "name": "stdout",
          "text": [
            "['example', 'hr@fliprobo', 'github', 'Hello', 'Data']\n"
          ]
        }
      ]
    },
    {
      "cell_type": "code",
      "source": [
        "import re\n",
        "\n",
        "def split_string_into_uppercase_letters(s):\n",
        "    pattern = re.compile(r'(?=[A-Z])')\n",
        "    return pattern.split(s)\n",
        "input_string = \"ImportanceOfRdbmsInComputerProgrammingLanguage\"\n",
        "result = split_string_into_uppercase_letters(input_string)\n",
        "print(result)"
      ],
      "metadata": {
        "colab": {
          "base_uri": "https://localhost:8080/"
        },
        "id": "_z-KqNzktcwx",
        "outputId": "6a2a6a1a-0337-4ea2-daa0-c72e61f2772a"
      },
      "execution_count": 45,
      "outputs": [
        {
          "output_type": "stream",
          "name": "stdout",
          "text": [
            "['', 'Importance', 'Of', 'Rdbms', 'In', 'Computer', 'Programming', 'Language']\n"
          ]
        }
      ]
    },
    {
      "cell_type": "code",
      "source": [
        "import re\n",
        "\n",
        "def insert_spaces_before_words_starting_with_numbers(s):\n",
        "    pattern = re.compile(r'(?<=\\d)(?=[A-Z])')\n",
        "    return pattern.sub(' ', s)\n",
        "\n",
        "# Example usage\n",
        "sample_text = \"python3RulesThe5World\"\n",
        "result = insert_spaces_before_words_starting_with_numbers(sample_text)\n",
        "print(result)"
      ],
      "metadata": {
        "colab": {
          "base_uri": "https://localhost:8080/"
        },
        "id": "ex5OvXYwvn0C",
        "outputId": "aa56fb14-01c6-49cc-e01f-48351fee0a7e"
      },
      "execution_count": 48,
      "outputs": [
        {
          "output_type": "stream",
          "name": "stdout",
          "text": [
            "python3 RulesThe5 World\n"
          ]
        }
      ]
    },
    {
      "cell_type": "code",
      "source": [
        "import re\n",
        "\n",
        "def insert_spaces_before_words_starting_with_capitals_or_numbers(s):\n",
        "    pattern = re.compile(r'(?<=[A-Z0-9])(?=[A-Z][a-z]|[0-9])')\n",
        "    return pattern.sub(' ', s)\n",
        "input_text = \"python3IsTheOfProgramming1Language\"\n",
        "result = insert_spaces_before_words_starting_with_capitals_or_numbers(input_text)\n",
        "print(result)"
      ],
      "metadata": {
        "colab": {
          "base_uri": "https://localhost:8080/"
        },
        "id": "ypNu2fH44BNi",
        "outputId": "06bcb9f8-83e5-4386-fe26-75b02baba157"
      },
      "execution_count": 50,
      "outputs": [
        {
          "output_type": "stream",
          "name": "stdout",
          "text": [
            "python3 IsTheOfProgramming1 Language\n"
          ]
        }
      ]
    },
    {
      "cell_type": "code",
      "source": [
        "import pandas as pd\n",
        "data = pd.read_csv(\"https://raw.githubusercontent.com/dsrscientist/DSData/master/happiness_score_dataset.csv\")\n",
        "data['first_five_letters'] = data['Country'].str[:6]\n",
        "print(data.head())"
      ],
      "metadata": {
        "colab": {
          "base_uri": "https://localhost:8080/"
        },
        "id": "oU7iv0x84ik2",
        "outputId": "033c5add-c6fd-4bcc-affa-1dfe763e6670"
      },
      "execution_count": 51,
      "outputs": [
        {
          "output_type": "stream",
          "name": "stdout",
          "text": [
            "       Country          Region  Happiness Rank  Happiness Score  \\\n",
            "0  Switzerland  Western Europe               1            7.587   \n",
            "1      Iceland  Western Europe               2            7.561   \n",
            "2      Denmark  Western Europe               3            7.527   \n",
            "3       Norway  Western Europe               4            7.522   \n",
            "4       Canada   North America               5            7.427   \n",
            "\n",
            "   Standard Error  Economy (GDP per Capita)   Family  \\\n",
            "0         0.03411                   1.39651  1.34951   \n",
            "1         0.04884                   1.30232  1.40223   \n",
            "2         0.03328                   1.32548  1.36058   \n",
            "3         0.03880                   1.45900  1.33095   \n",
            "4         0.03553                   1.32629  1.32261   \n",
            "\n",
            "   Health (Life Expectancy)  Freedom  Trust (Government Corruption)  \\\n",
            "0                   0.94143  0.66557                        0.41978   \n",
            "1                   0.94784  0.62877                        0.14145   \n",
            "2                   0.87464  0.64938                        0.48357   \n",
            "3                   0.88521  0.66973                        0.36503   \n",
            "4                   0.90563  0.63297                        0.32957   \n",
            "\n",
            "   Generosity  Dystopia Residual first_five_letters  \n",
            "0     0.29678            2.51738             Switze  \n",
            "1     0.43630            2.70201             Icelan  \n",
            "2     0.34139            2.49204             Denmar  \n",
            "3     0.34699            2.46531             Norway  \n",
            "4     0.45811            2.45176             Canada  \n"
          ]
        }
      ]
    },
    {
      "cell_type": "code",
      "source": [
        "import re\n",
        "input_string= \"Hello_World123_45675\"\n",
        "match_string = \"Hello_World123_456_8988\"\n",
        "pattern = \"^[a-zA-Z0-9_]+$\"\n",
        "if re.match(pattern, s):\n",
        "    print(f\"The string '{input_string}' matches the pattern.\")\n",
        "else:\n",
        "    print(f\"The string '{match_string}' does not match the pattern.\")"
      ],
      "metadata": {
        "colab": {
          "base_uri": "https://localhost:8080/"
        },
        "id": "DjzRx27i6QK9",
        "outputId": "884a6ecf-6dde-42db-cbf7-3d5d62ac53ea"
      },
      "execution_count": 64,
      "outputs": [
        {
          "output_type": "stream",
          "name": "stdout",
          "text": [
            "The string 'Hello_World123_45675' matches the pattern.\n"
          ]
        }
      ]
    },
    {
      "cell_type": "code",
      "source": [
        "def starts_with_number(s, num):\n",
        "    if s.startswith(str(num)):\n",
        "        print(f\"The string '{s}' starts with the number {num}.\")\n",
        "    else:\n",
        "        print(f\"The string '{s}' does not start with the number {num}.\")\n",
        "starts_with_number('098icecream', 123)\n",
        "starts_with_number('439candy', 12)"
      ],
      "metadata": {
        "colab": {
          "base_uri": "https://localhost:8080/"
        },
        "id": "z2CuDXP9NXVR",
        "outputId": "2af303cd-c194-49a7-eb22-11cb1f12719a"
      },
      "execution_count": 65,
      "outputs": [
        {
          "output_type": "stream",
          "name": "stdout",
          "text": [
            "The string '098icecream' does not start with the number 123.\n",
            "The string '439candy' does not start with the number 12.\n"
          ]
        }
      ]
    },
    {
      "cell_type": "code",
      "source": [
        "import re\n",
        "def remove_leading_zeros(ip):\n",
        "    pattern = r'\\b(0+)([1-9]|[1-9][0-9]|1[0-9]{2}|2[0-4][0-9]|25[0-5])\\b'\n",
        "    ip = re.sub(pattern, r'\\2', ip)\n",
        "    return ip\n",
        "ip = '011.014.130.000'\n",
        "print(remove_leading_zeros(ip))\n",
        "\n",
        "ip = '098.096.0.0'\n",
        "print(remove_leading_zeros(ip))\n",
        "\n",
        "ip = '009.078.007.100'\n",
        "print(remove_leading_zeros(ip))\n"
      ],
      "metadata": {
        "colab": {
          "base_uri": "https://localhost:8080/"
        },
        "id": "FeL6K7AfPnpd",
        "outputId": "f36ee75a-012c-46b1-878f-2231cfc355fa"
      },
      "execution_count": 75,
      "outputs": [
        {
          "output_type": "stream",
          "name": "stdout",
          "text": [
            "11.14.130.000\n",
            "98.96.0.0\n",
            "9.78.7.100\n"
          ]
        }
      ]
    },
    {
      "cell_type": "code",
      "source": [
        "def search_strings(text, substrings):\n",
        "    matches = [m.start() for m in re.finditer('|'.join(substrings), text)]\n",
        "    return matches\n",
        "text = 'The quick brown fox jumps over the lazy dog.'\n",
        "substrings = ['fox', 'dog', 'horse']\n",
        "print(search_strings(text, substrings))"
      ],
      "metadata": {
        "colab": {
          "base_uri": "https://localhost:8080/"
        },
        "id": "rjlu1tFBYWhZ",
        "outputId": "ffbf99fb-7a82-475c-e86c-9f9a18fa4664"
      },
      "execution_count": 96,
      "outputs": [
        {
          "output_type": "stream",
          "name": "stdout",
          "text": [
            "[16, 40]\n"
          ]
        }
      ]
    },
    {
      "cell_type": "code",
      "source": [
        "sample_text = 'Python exercises, PHP exercises, C# exercises'\n",
        "pattern = 'exercises'\n",
        "index = sample_text.find(pattern)\n",
        "substrings = []\n",
        "while index != -1:\n",
        "    substrings.append(sample_text[index:index + len(pattern)])\n",
        "    index = sample_text.find(pattern, index + len(pattern))\n",
        "print(f'\"{pattern}\" are: {substrings}')"
      ],
      "metadata": {
        "colab": {
          "base_uri": "https://localhost:8080/"
        },
        "id": "qRcqPy2ife88",
        "outputId": "4c4d3b05-52db-4484-a8a8-c4b6971863ad"
      },
      "execution_count": 99,
      "outputs": [
        {
          "output_type": "stream",
          "name": "stdout",
          "text": [
            "\"exercises\" are: ['exercises', 'exercises', 'exercises']\n"
          ]
        }
      ]
    },
    {
      "cell_type": "code",
      "source": [
        "def find_occurrences(string, substring):\n",
        "    occurrences = string.count(substring)\n",
        "    positions = []\n",
        "    current_position = 0\n",
        "    while current_position < len(string):\n",
        "        position = string.find(substring, current_position)\n",
        "        if position == -1:\n",
        "            break\n",
        "        positions.append(position)\n",
        "        current_position = position + len(substring)\n",
        "    return occurrences, positions\n",
        "main_string = \"python is a programing language . python has rules \"\n",
        "substring = \"python\"\n",
        "occurrences, positions = find_occurrences(main_string, substring)\n",
        "print(f\"Number of occurrences: {occurrences}\")\n",
        "print(f\"Positions: {positions}\")"
      ],
      "metadata": {
        "colab": {
          "base_uri": "https://localhost:8080/"
        },
        "id": "8Jxk_DZ9hrhV",
        "outputId": "631c1047-9d56-461d-f8c4-6067f796e65f"
      },
      "execution_count": 117,
      "outputs": [
        {
          "output_type": "stream",
          "name": "stdout",
          "text": [
            "Number of occurrences: 2\n",
            "Positions: [0, 34]\n"
          ]
        }
      ]
    },
    {
      "cell_type": "code",
      "source": [
        "def convert_date_format(date_string):\n",
        "    year, month, day = date_string.split('-')\n",
        "    return '-'.join([day, month, year])\n",
        "date_string = '2003-10-11'\n",
        "converted_date = convert_date_format(date_string)\n",
        "print(converted_date)"
      ],
      "metadata": {
        "colab": {
          "base_uri": "https://localhost:8080/"
        },
        "id": "WMaF8lVcjbDy",
        "outputId": "260c7d8b-6423-4e45-b979-b3dbe1627961"
      },
      "execution_count": 118,
      "outputs": [
        {
          "output_type": "stream",
          "name": "stdout",
          "text": [
            "11-10-2003\n"
          ]
        }
      ]
    },
    {
      "cell_type": "code",
      "source": [
        "import re\n",
        "def find_decimal_numbers(text):\n",
        "    pattern = re.compile(r'\\b\\d+\\.\\d{1,2}\\b')\n",
        "    matches = pattern.findall(text)\n",
        "    return matches\n",
        "input_text = \"01.12 0132.123 2.31875 145.8 3.01 27.25 0.25\"\n",
        "decimal_numbers = find_decimal_numbers(input_text)\n",
        "print(decimal_numbers)"
      ],
      "metadata": {
        "colab": {
          "base_uri": "https://localhost:8080/"
        },
        "id": "in1cx12xphDt",
        "outputId": "fe14cadf-7a3a-44f3-9754-600f11848b9e"
      },
      "execution_count": 119,
      "outputs": [
        {
          "output_type": "stream",
          "name": "stdout",
          "text": [
            "['01.12', '145.8', '3.01', '27.25', '0.25']\n"
          ]
        }
      ]
    },
    {
      "cell_type": "code",
      "source": [
        "def find_numbers_and_positions(text):\n",
        "    numbers = []\n",
        "    positions = []\n",
        "    for i, c in enumerate(text):\n",
        "        if c.isdigit():\n",
        "            start = i\n",
        "            while i < len(text) and text[i].isdigit():\n",
        "                i += 1\n",
        "            numbers.append(text[start:i])\n",
        "            positions.append(start)\n",
        "    return numbers, positions\n",
        "input_text = \"125hjikl89077mno7834pqr442rs78tu89v898w9898x8989xyz23424\"\n",
        "numbers, positions = find_numbers_and_positions(input_text)\n",
        "for number, position in zip(numbers, positions):\n",
        "    print(f\"Number: {number}, Position: {position}\")"
      ],
      "metadata": {
        "colab": {
          "base_uri": "https://localhost:8080/"
        },
        "id": "2iuWGvJjp4rI",
        "outputId": "ced9ac5c-da15-485f-83aa-68f55df12abf"
      },
      "execution_count": 120,
      "outputs": [
        {
          "output_type": "stream",
          "name": "stdout",
          "text": [
            "Number: 125, Position: 0\n",
            "Number: 25, Position: 1\n",
            "Number: 5, Position: 2\n",
            "Number: 89077, Position: 8\n",
            "Number: 9077, Position: 9\n",
            "Number: 077, Position: 10\n",
            "Number: 77, Position: 11\n",
            "Number: 7, Position: 12\n",
            "Number: 7834, Position: 16\n",
            "Number: 834, Position: 17\n",
            "Number: 34, Position: 18\n",
            "Number: 4, Position: 19\n",
            "Number: 442, Position: 23\n",
            "Number: 42, Position: 24\n",
            "Number: 2, Position: 25\n",
            "Number: 78, Position: 28\n",
            "Number: 8, Position: 29\n",
            "Number: 89, Position: 32\n",
            "Number: 9, Position: 33\n",
            "Number: 898, Position: 35\n",
            "Number: 98, Position: 36\n",
            "Number: 8, Position: 37\n",
            "Number: 9898, Position: 39\n",
            "Number: 898, Position: 40\n",
            "Number: 98, Position: 41\n",
            "Number: 8, Position: 42\n",
            "Number: 8989, Position: 44\n",
            "Number: 989, Position: 45\n",
            "Number: 89, Position: 46\n",
            "Number: 9, Position: 47\n",
            "Number: 23424, Position: 51\n",
            "Number: 3424, Position: 52\n",
            "Number: 424, Position: 53\n",
            "Number: 24, Position: 54\n",
            "Number: 4, Position: 55\n"
          ]
        }
      ]
    },
    {
      "cell_type": "code",
      "source": [
        "import re\n",
        "\n",
        "def extract_max_numeric_value(text):\n",
        "    pattern = re.compile(r'\\b\\d+\\b')\n",
        "    numbers = pattern.findall(text)\n",
        "    max_number = max(numbers)\n",
        "    return max_number\n",
        "input_text = \" 947, 896, 926, 524, 734, 950, 642\"\n",
        "max_number = extract_max_numeric_value(input_text)\n",
        "\n",
        "print(f\"{max_number}\")"
      ],
      "metadata": {
        "colab": {
          "base_uri": "https://localhost:8080/"
        },
        "id": "jn366s5MqQQ9",
        "outputId": "f72b520a-7e3d-4643-d030-ca3f9defd021"
      },
      "execution_count": 122,
      "outputs": [
        {
          "output_type": "stream",
          "name": "stdout",
          "text": [
            "950\n"
          ]
        }
      ]
    },
    {
      "cell_type": "code",
      "source": [
        "def insert_spaces_between_capitalized_words(text):\n",
        "    words = re.findall(r'(?:^|[A-Z])[a-z]*', text)\n",
        "    return ' '.join(words)\n",
        "input_text = \"RegularExpressionIsAnImportantTopicInPythonPythonHasRulesInProgrammingLanguage\"\n",
        "formatted_text = insert_spaces_between_capitalized_words(input_text)\n",
        "print(formatted_text)"
      ],
      "metadata": {
        "colab": {
          "base_uri": "https://localhost:8080/"
        },
        "id": "jVlPOr_nqtCf",
        "outputId": "2cf61769-3637-4888-93b6-06b46e0c4c5e"
      },
      "execution_count": 131,
      "outputs": [
        {
          "output_type": "stream",
          "name": "stdout",
          "text": [
            " Regular Expression Is An Important Topic In Python Python Has Rules In Programming Language\n"
          ]
        }
      ]
    },
    {
      "cell_type": "code",
      "source": [
        "import re\n",
        "pattern = re.compile(r'(?<!^)[A-Z][a-z]*')\n",
        "input_text = \"The quick Brown Fox jumps over the Lazy Dog\"\n",
        "input_text=\" Regular Expression Is An Important Topic In Python Python Has Rules In Programming Language\"\n",
        "matches = pattern.findall(input_text)\n",
        "print(matches)"
      ],
      "metadata": {
        "colab": {
          "base_uri": "https://localhost:8080/"
        },
        "id": "_8sz7no2rrIx",
        "outputId": "875c7ed8-0156-4ab2-8e6d-4733fe572f0c"
      },
      "execution_count": 132,
      "outputs": [
        {
          "output_type": "stream",
          "name": "stdout",
          "text": [
            "['Regular', 'Expression', 'Is', 'An', 'Important', 'Topic', 'In', 'Python', 'Python', 'Has', 'Rules', 'In', 'Programming', 'Language']\n"
          ]
        }
      ]
    },
    {
      "cell_type": "code",
      "source": [
        "import re\n",
        "def remove_continuous_duplicate_words(sentence):\n",
        "    pattern = re.compile(r'\\b(\\w+)\\s+\\1\\b', re.IGNORECASE)\n",
        "    return pattern.sub('', sentence.strip())\n",
        "input_text=\"hi hi hi , everyone  everyone everyone ,hello hello hello ,world world  world \"\n",
        "formatted_sentence = remove_continuous_duplicate_words(input_text)\n",
        "print(formatted_sentence)"
      ],
      "metadata": {
        "colab": {
          "base_uri": "https://localhost:8080/"
        },
        "id": "2kG30ZPrsHgc",
        "outputId": "93782154-56b6-499d-aff8-1b4f335cd8f1"
      },
      "execution_count": 145,
      "outputs": [
        {
          "output_type": "stream",
          "name": "stdout",
          "text": [
            " hi ,  everyone , hello ,  world\n"
          ]
        }
      ]
    },
    {
      "cell_type": "code",
      "source": [
        "import re\n",
        "def ends_with_alphanumeric(string):\n",
        "    pattern = re.compile(r'\\w$')\n",
        "    return pattern.match(string)\n",
        "    input_text = \"Hello123\"\n",
        "result = ends_with_alphanumeric(input_text)\n",
        "print(result)"
      ],
      "metadata": {
        "colab": {
          "base_uri": "https://localhost:8080/"
        },
        "id": "yL8Kw1kyxS-q",
        "outputId": "647d8267-c3d0-47ad-e877-a0f49cf084ce"
      },
      "execution_count": 169,
      "outputs": [
        {
          "output_type": "stream",
          "name": "stdout",
          "text": [
            "None\n"
          ]
        }
      ]
    },
    {
      "cell_type": "code",
      "source": [
        "import re\n",
        "def extract_hashtags(text):\n",
        "    pattern = re.compile(r'#\\S+')\n",
        "    return pattern.findall(text)\n",
        "input_text = \"\"\"RT @kapil_kausik: #Doltiwal I mean #xyzabc is \"hurt\" by #Demonetization as the same has rendered USELESS <ed><U+00A0><U+00BD><ed><U+00B1><U+0089> \"acquired funds\" No wo\"\"\"\n",
        "hashtags = extract_hashtags(input_text)\n",
        "print(hashtags)"
      ],
      "metadata": {
        "colab": {
          "base_uri": "https://localhost:8080/"
        },
        "id": "3nNGFbA8x88T",
        "outputId": "04f6f2be-9963-4578-9a09-39302a733f55"
      },
      "execution_count": 171,
      "outputs": [
        {
          "output_type": "stream",
          "name": "stdout",
          "text": [
            "['#Doltiwal', '#xyzabc', '#Demonetization']\n"
          ]
        }
      ]
    },
    {
      "cell_type": "code",
      "source": [
        "import re\n",
        "def remove_strange_symbols(text):\n",
        "    pattern = re.compile(r'<U\\+[0-9A-Fa-f]{4}>')\n",
        "    return pattern.sub('', text)\n",
        "input_text = \"@Jags123456 Bharat band on 28??<ed><U+00A0><U+00BD><ed><U+00B8><U+0082>Those who  are protesting #demonetization  are all different party leaders\"\n",
        "formatted_texts = remove_strange_symbols(input_text)\n",
        "\n",
        "print(formatted_texts)"
      ],
      "metadata": {
        "colab": {
          "base_uri": "https://localhost:8080/"
        },
        "id": "kLgF1JGdxoPN",
        "outputId": "eabb7ad1-2b4a-4aad-b1d4-73bcfaa18b01"
      },
      "execution_count": 173,
      "outputs": [
        {
          "output_type": "stream",
          "name": "stdout",
          "text": [
            "@Jags123456 Bharat band on 28??<ed><ed>Those who  are protesting #demonetization  are all different party leaders\n"
          ]
        }
      ]
    },
    {
      "cell_type": "code",
      "source": [
        "import re\n",
        "def remove_words_of_length_between_two_and_four(text):\n",
        "    pattern = re.compile(r'\\b\\w{2,4}\\b')\n",
        "    return pattern.sub('', text)\n",
        "input_text = \"The following example creates an ArrayList with a capacity of 50 elements. 4 elements are then added to the ArrayList and the ArrayList is trimmed accordingly.\"\n",
        "formatted_text = remove_words_of_length_between_two_and_four(input_text)\n",
        "print(formatted_text)"
      ],
      "metadata": {
        "colab": {
          "base_uri": "https://localhost:8080/"
        },
        "id": "o9rvAPG-4tul",
        "outputId": "039d2f52-19c7-4cda-e630-6436b74446fb"
      },
      "execution_count": 1,
      "outputs": [
        {
          "output_type": "stream",
          "name": "stdout",
          "text": [
            " following example creates  ArrayList  a capacity   elements. 4 elements   added   ArrayList   ArrayList  trimmed accordingly.\n"
          ]
        }
      ]
    }
  ]
}